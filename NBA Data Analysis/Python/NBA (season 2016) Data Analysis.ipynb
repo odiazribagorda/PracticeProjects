{
 "cells": [
  {
   "cell_type": "code",
   "execution_count": 2,
   "metadata": {},
   "outputs": [],
   "source": [
    "import math\n",
    "import numpy as np\n",
    "import pandas as pd\n",
    "import matplotlib.pyplot as pp"
   ]
  },
  {
   "cell_type": "code",
   "execution_count": 3,
   "metadata": {},
   "outputs": [
    {
     "data": {
      "text/plain": [
       "True"
      ]
     },
     "execution_count": 3,
     "metadata": {},
     "output_type": "execute_result"
    }
   ],
   "source": [
    "combinations = [i+j==5 for i in range(10) for j in range(10)]\n",
    "any(combinations)"
   ]
  },
  {
   "cell_type": "code",
   "execution_count": 4,
   "metadata": {},
   "outputs": [],
   "source": [
    "player_list=pd.read_csv('NBA Season Data (Original).csv')"
   ]
  },
  {
   "cell_type": "code",
   "execution_count": 5,
   "metadata": {},
   "outputs": [
    {
     "name": "stdout",
     "output_type": "stream",
     "text": [
      "<class 'pandas.core.frame.DataFrame'>\n",
      "RangeIndex: 17729 entries, 0 to 17728\n",
      "Columns: 109 entries, Year to Rounded Age\n",
      "dtypes: float64(94), int64(7), object(8)\n",
      "memory usage: 14.7+ MB\n"
     ]
    }
   ],
   "source": [
    "player_list.info()"
   ]
  },
  {
   "cell_type": "code",
   "execution_count": 6,
   "metadata": {},
   "outputs": [
    {
     "data": {
      "text/plain": [
       "(2016, 1978)"
      ]
     },
     "execution_count": 6,
     "metadata": {},
     "output_type": "execute_result"
    }
   ],
   "source": [
    "player_list.Year.max(),player_list.Year.min()"
   ]
  },
  {
   "cell_type": "code",
   "execution_count": 7,
   "metadata": {},
   "outputs": [],
   "source": [
    "pd.options.display.max_rows=6\n",
    "player_list_by_year= player_list.set_index('Year')"
   ]
  },
  {
   "cell_type": "code",
   "execution_count": 8,
   "metadata": {},
   "outputs": [
    {
     "data": {
      "text/plain": [
       "Int64Index([1978, 1978, 1978, 1978, 1978, 1978, 1978, 1978, 1978, 1978,\n",
       "            ...\n",
       "            2016, 2016, 2016, 2016, 2016, 2016, 2016, 2016, 2016, 2016],\n",
       "           dtype='int64', name='Year', length=17729)"
      ]
     },
     "execution_count": 8,
     "metadata": {},
     "output_type": "execute_result"
    }
   ],
   "source": [
    "player_list_by_year.index"
   ]
  },
  {
   "cell_type": "code",
   "execution_count": 17,
   "metadata": {},
   "outputs": [],
   "source": [
    "player_list_2016 = player_list_by_year.loc[2016]"
   ]
  },
  {
   "cell_type": "code",
   "execution_count": 19,
   "metadata": {},
   "outputs": [
    {
     "data": {
      "text/plain": [
       "Int64Index([2016, 2016, 2016, 2016, 2016, 2016, 2016, 2016, 2016, 2016,\n",
       "            ...\n",
       "            2016, 2016, 2016, 2016, 2016, 2016, 2016, 2016, 2016, 2016],\n",
       "           dtype='int64', name='Year', length=870)"
      ]
     },
     "execution_count": 19,
     "metadata": {},
     "output_type": "execute_result"
    }
   ],
   "source": [
    "player_list_2016.index"
   ]
  },
  {
   "cell_type": "code",
   "execution_count": 54,
   "metadata": {},
   "outputs": [],
   "source": [
    "player_list_2016.set_index('Player', inplace=True)"
   ]
  },
  {
   "cell_type": "code",
   "execution_count": 81,
   "metadata": {},
   "outputs": [
    {
     "data": {
      "text/plain": [
       "<bound method DataFrame.count of                     Tm  Age  G   MP   PER    TS%   3PAr    FTr  ORB%  DRB%  \\\n",
       "Player                                                                       \n",
       "Paul Millsap       ATL   30  9  312  22.5  0.581  0.333  0.423   5.9  21.4   \n",
       "Victor Oladipo     ORL   23  8  308  14.5  0.454  0.313  0.134   1.5  18.8   \n",
       "Evan Fournier      ORL   23  8  302  15.4  0.580  0.408  0.208   0.7   9.9   \n",
       "...                ...  ... ..  ...   ...    ...    ...    ...   ...   ...   \n",
       "Solomon Hill       IND   24  1    2   0.0  0.000  0.000  0.000   0.0   0.0   \n",
       "Jeff Withey        UTA   25  1    1   0.0  0.000  0.000  0.000   0.0   0.0   \n",
       "Cristiano Felicio  CHI   23  1    1  35.3  0.000  0.000  0.000   0.0   0.0   \n",
       "\n",
       "                   ...  D-WORP  Adjusted WORP  Estimated Position  BBRef Pos  \\\n",
       "Player             ...                                                         \n",
       "Paul Millsap       ...     5.7           15.7                 3.6        4.0   \n",
       "Victor Oladipo     ...     3.9            3.9                 2.1        2.0   \n",
       "Evan Fournier      ...    -2.8            3.7                 2.3        3.0   \n",
       "...                ...     ...            ...                 ...        ...   \n",
       "Solomon Hill       ...     0.0            0.0                 2.5        3.0   \n",
       "Jeff Withey        ...     0.0            0.0                 3.7        5.0   \n",
       "Cristiano Felicio  ...    -0.2            0.0                 1.2        4.5   \n",
       "\n",
       "                   Age on Feb 1  Yrs Experience  Height  Weight  \\\n",
       "Player                                                            \n",
       "Paul Millsap              30.97             9.0    80.0   246.0   \n",
       "Victor Oladipo            23.75             2.0    76.0   210.0   \n",
       "Evan Fournier             23.26             3.0    79.0   205.0   \n",
       "...                         ...             ...     ...     ...   \n",
       "Solomon Hill              24.88             2.0    79.0   225.0   \n",
       "Jeff Withey               25.91             2.0    84.0   231.0   \n",
       "Cristiano Felicio         23.57             0.0    82.0   275.0   \n",
       "\n",
       "                   Rounded Position  Rounded Age  \n",
       "Player                                            \n",
       "Paul Millsap                    4.0         31.0  \n",
       "Victor Oladipo                  2.0         24.0  \n",
       "Evan Fournier                   2.0         23.0  \n",
       "...                             ...          ...  \n",
       "Solomon Hill                    2.0         25.0  \n",
       "Jeff Withey                     4.0         26.0  \n",
       "Cristiano Felicio               1.0         24.0  \n",
       "\n",
       "[404 rows x 107 columns]>"
      ]
     },
     "execution_count": 81,
     "metadata": {},
     "output_type": "execute_result"
    }
   ],
   "source": [
    "player_list_2016.count"
   ]
  },
  {
   "cell_type": "code",
   "execution_count": null,
   "metadata": {},
   "outputs": [],
   "source": []
  }
 ],
 "metadata": {
  "kernelspec": {
   "display_name": "Python 3",
   "language": "python",
   "name": "python3"
  },
  "language_info": {
   "codemirror_mode": {
    "name": "ipython",
    "version": 3
   },
   "file_extension": ".py",
   "mimetype": "text/x-python",
   "name": "python",
   "nbconvert_exporter": "python",
   "pygments_lexer": "ipython3",
   "version": "3.9.0"
  }
 },
 "nbformat": 4,
 "nbformat_minor": 4
}
